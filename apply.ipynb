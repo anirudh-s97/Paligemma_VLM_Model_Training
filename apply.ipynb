{
 "cells": [
  {
   "cell_type": "code",
   "execution_count": 12,
   "id": "637ddf5f",
   "metadata": {},
   "outputs": [],
   "source": [
    "import numpy as np\n",
    "token_ids = {\"token_ids\": [[1, 5, 9]]}"
   ]
  },
  {
   "cell_type": "code",
   "execution_count": 3,
   "id": "b78f6d97",
   "metadata": {},
   "outputs": [],
   "source": [
    "def add_image_tokens_to_prompt(prefix_prompt, bos_token, image_seq_len, image_token):\n",
    "    # Quoting from the blog (https://huggingface.co/blog/paligemma#detailed-inference-process):\n",
    "    #   The input text is tokenized normally.\n",
    "    #   A <bos> token is added at the beginning, and an additional newline token (\\n) is appended.\n",
    "    #   This newline token is an essential part of the input prompt the model was trained with, so adding it explicitly ensures it's always there.\n",
    "    #   The tokenized text is also prefixed with a fixed number of <image> tokens.\n",
    "    # NOTE: from the paper it looks like the `\\n` should be tokenized separately, but in the HF implementation this is not done.\n",
    "    #       ref to HF implementation: https://github.com/huggingface/transformers/blob/7f79a97399bb52aad8460e1da2f36577d5dccfed/src/transformers/models/paligemma/processing_paligemma.py#L55-L73\n",
    "    return f\"{image_token * image_seq_len}{bos_token}{prefix_prompt}\\n\"\n",
    "\n",
    "IMAGE_TOKEN = \"<image>\"\n",
    "\n",
    "pixel_values = [[[1,2,3],[4,5,6],[7,8,9]], [[13,14,15],[15,16,17]], [[18,19,20],[21,22,23]]]"
   ]
  },
  {
   "cell_type": "code",
   "execution_count": 8,
   "id": "a1c97256",
   "metadata": {},
   "outputs": [],
   "source": [
    "return_data = {\"pixel_values\": pixel_values, **token_ids}"
   ]
  },
  {
   "cell_type": "code",
   "execution_count": 9,
   "id": "5215fd96",
   "metadata": {},
   "outputs": [
    {
     "data": {
      "text/plain": [
       "{'pixel_values': [[[1, 2, 3], [4, 5, 6], [7, 8, 9]],\n",
       "  [[13, 14, 15], [15, 16, 17]],\n",
       "  [[18, 19, 20], [21, 22, 23]]],\n",
       " 'token_ids': [[1, 5, 9]]}"
      ]
     },
     "execution_count": 9,
     "metadata": {},
     "output_type": "execute_result"
    }
   ],
   "source": [
    "return_data"
   ]
  }
 ],
 "metadata": {
  "kernelspec": {
   "display_name": "base",
   "language": "python",
   "name": "python3"
  },
  "language_info": {
   "codemirror_mode": {
    "name": "ipython",
    "version": 3
   },
   "file_extension": ".py",
   "mimetype": "text/x-python",
   "name": "python",
   "nbconvert_exporter": "python",
   "pygments_lexer": "ipython3",
   "version": "3.12.7"
  }
 },
 "nbformat": 4,
 "nbformat_minor": 5
}

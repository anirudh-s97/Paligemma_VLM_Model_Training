{
 "cells": [
  {
   "cell_type": "code",
   "execution_count": 13,
   "id": "ff6d6be0",
   "metadata": {},
   "outputs": [],
   "source": [
    "import logging\n",
    "logging.basicConfig(level=logging.DEBUG, format='%(asctime)s - %(name)s - %(levelname)s - %(message)s')"
   ]
  },
  {
   "cell_type": "code",
   "execution_count": 14,
   "id": "f3ca1491",
   "metadata": {},
   "outputs": [],
   "source": [
    "logger = logging.getLogger(__name__)\n",
    "logger.setLevel(logging.DEBUG)  # Explicitly set the logger level\n",
    "\n",
    "# logger.debug(\"This is a debug message\")\n",
    "# logger.info(\"This is a info message\")"
   ]
  },
  {
   "cell_type": "code",
   "execution_count": 15,
   "id": "4bbda2ce",
   "metadata": {},
   "outputs": [
    {
     "name": "stderr",
     "output_type": "stream",
     "text": [
      "2025-06-19 12:50:55,987 - __main__ - DEBUG - This is a debug message\n",
      "2025-06-19 12:50:55,988 - __main__ - INFO - This is a info message\n",
      "2025-06-19 12:50:55,988 - __main__ - ERROR - This is an error message\n",
      "2025-06-19 12:50:55,989 - __main__ - WARNING - This is a warning message\n",
      "2025-06-19 12:50:55,990 - __main__ - CRITICAL - This is a critical message\n"
     ]
    }
   ],
   "source": [
    "logger.debug(\"This is a debug message\")\n",
    "logger.info(\"This is a info message\")\n",
    "logger.error(\"This is an error message\")\n",
    "logger.warning(\"This is a warning message\")\n",
    "logger.critical(\"This is a critical message\")"
   ]
  }
 ],
 "metadata": {
  "kernelspec": {
   "display_name": "base",
   "language": "python",
   "name": "python3"
  },
  "language_info": {
   "codemirror_mode": {
    "name": "ipython",
    "version": 3
   },
   "file_extension": ".py",
   "mimetype": "text/x-python",
   "name": "python",
   "nbconvert_exporter": "python",
   "pygments_lexer": "ipython3",
   "version": "3.12.7"
  }
 },
 "nbformat": 4,
 "nbformat_minor": 5
}
